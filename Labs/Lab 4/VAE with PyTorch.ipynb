{
 "cells": [
  {
   "cell_type": "markdown",
   "id": "5e335ec8-bd05-4fb7-87f3-2dcd1eea5ce0",
   "metadata": {},
   "source": [
    "# Setting up the VAE environment in PyTorch"
   ]
  },
  {
   "cell_type": "code",
   "execution_count": 11,
   "id": "50e870a9-f56e-47ec-8128-a88e34f8f678",
   "metadata": {},
   "outputs": [],
   "source": [
    "import torch  \n",
    "import torch.nn as nn  \n",
    "import torch.optim as optim  \n",
    "from torchvision import datasets, transforms  \n",
    "from torch.utils.data import DataLoader  \n",
    "import torch.nn.functional as F \n",
    "import numpy as np  \n",
    "import matplotlib.pyplot as plt  \n",
    " \n",
    "# Use GPU if available  \n",
    "device = torch.device('cuda' if torch.cuda.is_available() else 'cpu')\n",
    "\n",
    "# Load MNIST dataset  \n",
    "transform = transforms.ToTensor()  \n",
    "train_dataset = datasets.MNIST(root='./data', train=True, transform=transform, download=True)  \n",
    "train_loader = DataLoader(dataset=train_dataset, batch_size=128, shuffle=True) \n"
   ]
  },
  {
   "cell_type": "markdown",
   "id": "c3051e5b-02e1-4165-b072-cdb2686d4dfb",
   "metadata": {},
   "source": [
    "# Building the VAE model architecture in PyTorch"
   ]
  },
  {
   "cell_type": "markdown",
   "id": "fd68b637-f57a-49a0-9f9c-6524a8cdb1fb",
   "metadata": {},
   "source": [
    "## Building the encoder class \n",
    "The encoder takes an input image, compresses it into a compact latent representation, and outputs two vectors: the mean (μ) and log-variance (logσ²). These vectors define a probability distribution that will later be used to sample a latent vector, rather than generating a single fixed point like a traditional autoencoder."
   ]
  },
  {
   "cell_type": "code",
   "execution_count": 12,
   "id": "f47d3305-80f0-43ec-89a7-527e3431dd04",
   "metadata": {},
   "outputs": [],
   "source": [
    "class Encoder(nn.Module):  \n",
    "  def __init__(self, input_dim=784, hidden_dim=400, latent_dim=20):  \n",
    "    super(Encoder, self).__init__()  \n",
    "    self.fc1 = nn.Linear(input_dim, hidden_dim)  \n",
    "    self.fc_mu = nn.Linear(hidden_dim, latent_dim)  \n",
    "    self.fc_logvar = nn.Linear(hidden_dim, latent_dim) \n",
    "\n",
    "  def forward(self, x): \n",
    "    h = torch.relu(self.fc1(x)) \n",
    "    mu = self.fc_mu(h) \n",
    "    logvar = self.fc_logvar(h) \n",
    "    return mu, logvar \n"
   ]
  },
  {
   "cell_type": "markdown",
   "id": "75589f11-f76e-42b3-9d9f-a4505b7a75a3",
   "metadata": {},
   "source": [
    "## Implementing the decoder class\n",
    "The decoder reverses the process, taking a sampled latent vector and attempting to reconstruct the original image. Through this process, the VAE learns to generate new data that resembles the training inputs."
   ]
  },
  {
   "cell_type": "code",
   "execution_count": 13,
   "id": "d1a0178c-51a4-4e2c-95d2-748d59e74ac5",
   "metadata": {},
   "outputs": [],
   "source": [
    "class Decoder(nn.Module):\n",
    "    def __init__(self, latent_dim=20, hidden_dim=400, output_dim=784):\n",
    "        super().__init__()\n",
    "        self.fc1 = nn.Linear(latent_dim, hidden_dim)\n",
    "        self.fc2 = nn.Linear(hidden_dim, output_dim)\n",
    "\n",
    "    def forward(self, z):\n",
    "        h = torch.relu(self.fc1(z))\n",
    "        logits = self.fc2(h)          # <- logits (no sigmoid here)\n",
    "        return logits"
   ]
  },
  {
   "cell_type": "markdown",
   "id": "a1694001-2ac3-4f6e-b2fe-a014f40cb347",
   "metadata": {},
   "source": [
    "## Creating the main VAE class\n",
    "The VAE class integrates the encoder and decoder, utilizing the reparameterization trick to maintain differentiability during training. To enable backpropagation through the sampling process, we sample ε from a standard normal distribution N(0,1) and calculate z as μ + σ * ε, rather than directly sampling from the latent distribution.\n",
    "\n",
    "The reparameterize() function enables differentiable sampling.\n",
    "\n",
    " - logvar is exponentiated and scaled to get the standard deviation.\n",
    " - eps is random noise from a standard normal distribution.\n",
    " - The final sampled z has the desired mean and variance but is differentiable with respect to mu and logvar.\n",
    "The model outputs the reconstruction along with mu and logvar for computing the loss."
   ]
  },
  {
   "cell_type": "code",
   "execution_count": 14,
   "id": "c9c56f3f-5599-42dc-8c25-f5cc432d5ec4",
   "metadata": {},
   "outputs": [],
   "source": [
    "class VAE(nn.Module):  \n",
    "  def __init__(self, input_dim=784, hidden_dim=400, latent_dim=20):  \n",
    "    super(VAE, self).__init__()  \n",
    "    self.encoder = Encoder(input_dim, hidden_dim, latent_dim)  \n",
    "    self.decoder = Decoder(latent_dim, hidden_dim, input_dim)  \n",
    " \n",
    "  def reparameterize(self, mu, logvar):  \n",
    "    std = torch.exp(0.5 * logvar)   # Standard deviation  \n",
    "    eps = torch.randn_like(std)    # Random noise  \n",
    "    return mu + eps * std                 # Sample from the latent distribution  \n",
    "\n",
    "  def forward(self, x):  \n",
    "    mu, logvar = self.encoder(x)  \n",
    "    z = self.reparameterize(mu, logvar)  \n",
    "    reconstructed = self.decoder(z)  \n",
    "    return reconstructed, mu, logvar \n"
   ]
  },
  {
   "cell_type": "markdown",
   "id": "9df409e9-1cb2-4d9a-bf73-60d7b8f75f8f",
   "metadata": {},
   "source": [
    "## Step 3: Defining the loss function – Reconstruction + KL divergence\n",
    "Reconstruction loss: Ensures the output is close to the original input.\n",
    "\n",
    " - KL divergence: Encourages the learned latent distribution to be close to a standard normal distribution.\n",
    "\n",
    " - The total loss is often referred to as the ELBO (Evidence Lower Bound), and we aim to maximize it (or equivalently, minimize its negative)."
   ]
  },
  {
   "cell_type": "code",
   "execution_count": 15,
   "id": "557faa84-c710-4df2-8312-16d712b7b148",
   "metadata": {},
   "outputs": [],
   "source": [
    "def loss_function(logits, x, mu, logvar, beta=1.0):\n",
    "    recon_loss = F.binary_cross_entropy_with_logits(logits, x, reduction='sum')\n",
    "    kl = -0.5 * torch.sum(1 + logvar - mu.pow(2) - logvar.exp())\n",
    "    return recon_loss + beta * kl, recon_loss, kl"
   ]
  },
  {
   "cell_type": "markdown",
   "id": "fe1bdff4-e46f-4a14-a1d5-bacc4f5d9b34",
   "metadata": {},
   "source": [
    "## Step 4: Training and evaluating the VAE\n",
    "With the VAE model and loss function defined, we can proceed to training. We'll execute the training loop for multiple epochs, track the loss, and visualize the model's reconstruction and generation capabilities as it learns."
   ]
  },
  {
   "cell_type": "code",
   "execution_count": 21,
   "id": "48278e26-855d-4ce1-adba-c9262edaf66b",
   "metadata": {},
   "outputs": [
    {
     "name": "stdout",
     "output_type": "stream",
     "text": [
      "Epoch 1, Loss: 163.0763\n",
      "Epoch 2, Loss: 120.1761\n",
      "Epoch 3, Loss: 113.3949\n",
      "Epoch 4, Loss: 110.5760\n",
      "Epoch 5, Loss: 108.9781\n",
      "Epoch 6, Loss: 107.8964\n",
      "Epoch 7, Loss: 107.0917\n",
      "Epoch 8, Loss: 106.5772\n",
      "Epoch 9, Loss: 106.0614\n",
      "Epoch 10, Loss: 105.7079\n",
      "Epoch 11, Loss: 105.3669\n",
      "Epoch 12, Loss: 105.0863\n",
      "Epoch 13, Loss: 104.8647\n",
      "Epoch 14, Loss: 104.6505\n",
      "Epoch 15, Loss: 104.4276\n",
      "Epoch 16, Loss: 104.2593\n",
      "Epoch 17, Loss: 104.0647\n",
      "Epoch 18, Loss: 103.9197\n",
      "Epoch 19, Loss: 103.8085\n",
      "Epoch 20, Loss: 103.6662\n"
     ]
    },
    {
     "data": {
      "image/png": "[encoded data removed]",
      "text/plain": [
       "<Figure size 640x480 with 1 Axes>"
      ]
     },
     "metadata": {},
     "output_type": "display_data"
    }
   ],
   "source": [
    "import matplotlib.pyplot as plt \n",
    "\n",
    "# Set training parameters \n",
    "epochs = 20  \n",
    "learning_rate = 1e-3  \n",
    "\n",
    "# Initialize model, optimizer \n",
    "model = VAE().to(device)  \n",
    "#optimizer = torch.optim.Adam(model.parameters(), lr=learning_rate) \n",
    "optimizer = torch.optim.Adam(model.parameters(), lr=1e-3, betas=(0.9, 0.99))\n",
    "\n",
    "# Track losses \n",
    "train_losses = [] \n",
    "\n",
    "# Training loop\n",
    "model.train()  \n",
    "\n",
    "for epoch in range(epochs):  \n",
    "  total_loss = 0\n",
    "  for batch_idx, (x, _) in enumerate(train_loader):  \n",
    "    x = x.view(-1, 784).to(device)  # Flatten images \n",
    "    optimizer.zero_grad() \n",
    "\n",
    "    recon_logits, mu, logvar = model(x) \n",
    "    recon_x = torch.sigmoid(recon_logits)\n",
    "    loss, recon_loss, kl_loss = loss_function(recon_logits, x, mu, logvar)\n",
    "    loss.backward()\n",
    "    optimizer.step() \n",
    "     \n",
    "    total_loss += loss.item() \n",
    " \n",
    "  avg_loss = total_loss / len(train_loader.dataset) \n",
    "  train_losses.append(avg_loss) \n",
    "  print(f\"Epoch {epoch+1}, Loss: {avg_loss:.4f}\") \n",
    "\n",
    " \n",
    "\n",
    "# Plotting the training loss \n",
    "plt.plot(train_losses) \n",
    "plt.title(\"VAE Training Loss\") \n",
    "plt.xlabel(\"Epoch\") \n",
    "plt.ylabel(\"Loss\") \n",
    "plt.grid(True) \n",
    "plt.show() \n"
   ]
  },
  {
   "cell_type": "markdown",
   "id": "f89777f1-58d9-453f-9d0c-9f4d919d50ab",
   "metadata": {},
   "source": [
    "## Step 5: Testing the VAE by generating new samples\n",
    "Once the VAE is trained, we can evaluate its generative capabilities by sampling from the learned latent space and observing the outputs"
   ]
  },
  {
   "cell_type": "code",
   "execution_count": 23,
   "id": "d723fe1b-884f-4025-8e97-fc64676c2d93",
   "metadata": {},
   "outputs": [
    {
     "data": {
      "image/png": "[encoded data removed]",
      "text/plain": [
       "<Figure size 1200x300 with 16 Axes>"
      ]
     },
     "metadata": {},
     "output_type": "display_data"
    },
    {
     "data": {
      "text/plain": [
       "VAE(\n",
       "  (encoder): Encoder(\n",
       "    (fc1): Linear(in_features=784, out_features=400, bias=True)\n",
       "    (fc_mu): Linear(in_features=400, out_features=20, bias=True)\n",
       "    (fc_logvar): Linear(in_features=400, out_features=20, bias=True)\n",
       "  )\n",
       "  (decoder): Decoder(\n",
       "    (fc1): Linear(in_features=20, out_features=400, bias=True)\n",
       "    (fc2): Linear(in_features=400, out_features=784, bias=True)\n",
       "  )\n",
       ")"
      ]
     },
     "execution_count": 23,
     "metadata": {},
     "output_type": "execute_result"
    }
   ],
   "source": [
    "model.eval()\n",
    "with torch.no_grad():\n",
    "    x, _ = next(iter(train_loader))\n",
    "    x = x[:8].to(device)\n",
    "    logits, _, _ = model(x.view(-1, 784))\n",
    "    recon = torch.sigmoid(logits).view(-1, 1, 28, 28).cpu()\n",
    "\n",
    "fig, axs = plt.subplots(2, 8, figsize=(12, 3))\n",
    "for i in range(8):\n",
    "    axs[0, i].imshow(x[i].view(28,28).cpu(), cmap='gray'); axs[0, i].axis('off')\n",
    "    axs[1, i].imshow(recon[i,0], cmap='gray');             axs[1, i].axis('off')\n",
    "plt.suptitle(\"Top: originals   Bottom: reconstructions\"); plt.show()\n",
    "model.train()\n"
   ]
  },
  {
   "cell_type": "code",
   "execution_count": null,
   "id": "33fc5e56-16bc-4b75-943f-cb1f7f6a7e6b",
   "metadata": {},
   "outputs": [],
   "source": []
  }
 ],
 "metadata": {
  "kernelspec": {
   "display_name": "Python [conda env:anaconda3]",
   "language": "python",
   "name": "conda-env-anaconda3-py"
  },
  "language_info": {
   "codemirror_mode": {
    "name": "ipython",
    "version": 3
   },
   "file_extension": ".py",
   "mimetype": "text/x-python",
   "name": "python",
   "nbconvert_exporter": "python",
   "pygments_lexer": "ipython3",
   "version": "3.13.5"
  }
 },
 "nbformat": 4,
 "nbformat_minor": 5
}
