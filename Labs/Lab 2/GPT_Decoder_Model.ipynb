{
 "cells": [
  {
   "cell_type": "markdown",
   "metadata": {},
   "source": [
    "# Building and Training a Decoder GPT-Like Model for Text Generation\n"
   ]
  },
  {
   "cell_type": "markdown",
   "metadata": {},
   "source": [
    "## Objective\n",
    "In this assignment, you will learn how to build and train a decoder GPT-like model, which is ideal for generating text and other natural language processing tasks. By the end of this tutorial, you will understand the basics of preparing data, building the model architecture, training the model, and generating text based on learned patterns.\n",
    "## Introduction to GPT Models\n",
    "GPT (Generative Pretrained Transformer) models are decoder-only models trained using a causal language modeling objective. The primary goal is to predict the next token in a sequence given the previous tokens. During training, the model learns to generate output tokens autoregressively, allowing it to produce coherent and contextually relevant text based on the input prompt.\n",
    "## Key Concepts\n",
    "Decoder-Only Model: GPT models focus on generating text based on the input sequence, predicting one token at a time.\n",
    "Causal Language Modeling: The model is trained to predict the next token in a sequence, given the context of the previous tokens.\n",
    "Autoregressive Generation: The model generates text one token at a time, using the previously generated tokens as context.\n",
    "## GPT vs. ChatGPT\n",
    "Both GPT and ChatGPT are AI models developed by OpenAI, but they serve different purposes:\n",
    "GPT: A family of large-scale transformer-based language models for various NLP tasks, such as text generation, translation, and question-answering. GPT models generate responses based on the input text but do not maintain conversation history.\n",
    "ChatGPT: A fine-tuned version of GPT, specifically designed for conversational AI applications. ChatGPT maintains conversation history and generates contextually relevant responses, making it suitable for chatbot-like interactions.\n",
    "## Assignment Tasks\n",
    "Prepare the environment and dataset for training a GPT-like model.\n",
    "Build the model architecture, focusing on the self-attention mechanism.\n",
    "Train the model using a dataset of your choice.\n",
    "Use the trained model to generate text based on a given prompt.\n",
    "## Expected Outcomes\n",
    "By completing this assignment, you will gain hands-on experience in building and training a decoder GPT-like model for text generation. You will understand the key concepts of GPT models, including causal language modeling and autoregressive generation, and learn how to apply these concepts in a practical setting."
   ]
  },
  {
   "cell_type": "markdown",
   "metadata": {},
   "source": [
    "## Setup\n"
   ]
  },
  {
   "cell_type": "markdown",
   "metadata": {},
   "source": [
    "### Installing required libraries\n",
    "\n"
   ]
  },
  {
   "cell_type": "code",
   "execution_count": null,
   "metadata": {},
   "outputs": [],
   "source": [
    "!pip install numpy==1.26.0\n",
    "!pip install torch==2.2.0 torchvision torchaudio --index-url https://download.pytorch.org/whl/cpu\n",
    "!pip install torchtext==0.17.2\n",
    "!pip install torchdata==0.7.1\n",
    "!pip install portalocker==2.8.2\n",
    "!pip install pandas==2.2.1\n",
    "!pip install matplotlib==3.9.0 scikit-learn==1.5.0\n",
    "!pip install transformers==4.35.2"
   ]
  },
  {
   "cell_type": "markdown",
   "metadata": {},
   "source": [
    "### Importing required libraries\n"
   ]
  },
  {
   "cell_type": "markdown",
   "metadata": {},
   "source": [
    "- **torchdata**: Enhances data loading and preprocessing functionalities for PyTorch. Streamlines the workflow for machine learning models, making it easier to manage and prepare data.\n",
    "- **portalocker**: Provides a mechanism to lock files, ensuring exclusive access. Useful for managing file resources in concurrent applications, preventing multiple processes from accessing the same file simultaneously.\n",
    "- **torchtext**: Offers utilities for text processing and datasets in PyTorch. implifies the preparation of data for NLP tasks, providing tools for tokenization, vocabulary management, and dataset loading.\n",
    "- **matplotlib**: A plotting library for creating static, interactive, and animated visualizations in Python..\n",
    "\n",
    "These libraries collectively support various aspects of machine learning and NLP projects, including:\n",
    "Data Preparation: torchdata and torchtext streamline data loading, preprocessing, and text processing.\n",
    "Resource Management: portalocker ensures efficient file handling in concurrent applications.\n",
    "Data Visualization: matplotlib provides tools for creating informative visualizations."
   ]
  },
  {
   "cell_type": "code",
   "execution_count": null,
   "metadata": {},
   "outputs": [],
   "source": [
    "from torchtext.datasets import multi30k, Multi30k\n",
    "from torch.utils.data import DataLoader\n",
    "import torch\n",
    "from typing import Iterable, List\n",
    "import matplotlib.pyplot as plt\n",
    "from torch import Tensor\n",
    "import torch\n",
    "import torch.nn as nn\n",
    "from torch.nn import Transformer\n",
    "import math\n",
    "from torchtext.vocab import Vocab\n",
    "from torchtext.data.utils import get_tokenizer\n",
    "from torchtext.vocab import build_vocab_from_iterator\n",
    "from torch.nn.utils.rnn import pad_sequence\n",
    "from torchtext.datasets import IMDB,PennTreebank\n",
    "from transformers import GPT2Tokenizer, GPT2LMHeadModel\n",
    "import time\n",
    "from torch.optim import Adam\n",
    "\n",
    "\n",
    "# You can also use this section to suppress warnings generated by your code:\n",
    "def warn(*args, **kwargs):\n",
    "    pass\n",
    "import warnings\n",
    "warnings.warn = warn\n",
    "warnings.filterwarnings('ignore')"
   ]
  },
  {
   "cell_type": "markdown",
   "metadata": {},
   "source": [
    "# Loading and Iterating Over the IMDB Dataset\n",
    "## Dataset\n",
    "Load the IMDB dataset into training and validation sets. Create an iterator for the training set. Loop through the first 10 samples and print each one. This process simulates manual iteration over a dataset without utilizing PyTorch's `DataLoader`  for batch processing and data management.\n",
    "\n",
    "For language modeling tasks, consider the following datasets:\n",
    "PennTreebank: A popular dataset for language modeling tasks.\n",
    "WikiText-2: A dataset consisting of Wikipedia articles, suitable for training language models.\n",
    "WikiText103: A larger dataset of Wikipedia articles, ideal for more complex language modeling tasks.\n",
    "These datasets are available through PyTorch's `torchtext` library and can be used for training more robust language models.\n",
    "\n"
   ]
  },
  {
   "cell_type": "code",
   "execution_count": null,
   "metadata": {},
   "outputs": [],
   "source": [
    "# Load the dataset\n",
    "train_iter, val_iter = IMDB()"
   ]
  },
  {
   "cell_type": "markdown",
   "metadata": {},
   "source": [
    "Initialize an iterator for the train data loader:\n"
   ]
  },
  {
   "cell_type": "code",
   "execution_count": null,
   "metadata": {},
   "outputs": [],
   "source": [
    "data_itr=iter(train_iter)\n",
    "# retrieving the third first record\n",
    "next(data_itr)\n",
    "next(data_itr)\n",
    "next(data_itr)"
   ]
  },
  {
   "cell_type": "markdown",
   "metadata": {},
   "source": [
    "Let's define our device (CPU or GPU) for training. We'll check if a GPU is available and use it; otherwise, we'll use the CPU.\n"
   ]
  },
  {
   "cell_type": "code",
   "execution_count": null,
   "metadata": {},
   "outputs": [],
   "source": [
    "DEVICE = torch.device('cuda' if torch.cuda.is_available() else 'cpu')\n",
    "DEVICE"
   ]
  },
  {
   "cell_type": "markdown",
   "metadata": {},
   "source": [
    "\n",
    "## Preprocessing data\n",
    "The provided code is used for preprocessing text data, particularly for NLP tasks, with a focus on tokenization and vocabulary building.\n",
    "\n",
    "- **Special Symbols and Indices**: Initializes special tokens (`<unk>`, `<pad>`, and an empty string for EOS) with their corresponding indices (`0`, `1`, and `2`). These tokens are used for unknown words, padding, and end of sentence respectively.\n",
    "    - `UNK_IDX`: Index for unknown words.\n",
    "    - `PAD_IDX`: Index used for padding shorter sentences in a batch to ensure uniform length.\n",
    "    - `EOS_IDX`: Index representing the end of a sentence (though not explicitly used here as the EOS symbol is set to an empty string).\n",
    "\n",
    "- **`yield_tokens` Function**: A generator function that iterates through a dataset (`data_iter`), tokenizing each data sample using a `tokenizer` function, and yields one tokenized sample at a time.\n",
    "\n",
    "- **Vocabulary building**: Constructs a vocabulary from the tokenized dataset. The `build_vocab_from_iterator` function processes tokens generated by `yield_tokens`, includes special tokens (`special_symbols`) at the beginning of the vocabulary, and sets a minimum frequency (`min_freq=1`) for tokens to be included.\n",
    "\n",
    "- **Default index for unknown tokens**: Sets a default index for tokens not found in the vocabulary (`UNK_IDX`), ensuring that out-of-vocabulary words are handled as unknown tokens.\n",
    "\n",
    "- **`text_to_index` function**: Converts a given text into a sequence of indices based on the built vocabulary. This function is essential for transforming raw text into a numerical format that can be processed by machine learning models.\n",
    "\n",
    "- **`index_to_en` function**: Transforms a sequence of indices back into a readable string. It's useful for interpreting the outputs of models and converting numerical predictions back into text.\n",
    "\n",
    "- **Check functionality**: Demonstrates the use of `index_to_en` by converting a tensor of indices `[0,1,2]` back into their corresponding special symbols. This helps verify that the vocabulary and index conversion functions are working as expected.\n"
   ]
  },
  {
   "cell_type": "code",
   "execution_count": null,
   "metadata": {},
   "outputs": [],
   "source": [
    "# Define special symbols and indices\n",
    "UNK_IDX, PAD_IDX, EOS_IDX = 0, 1, 2\n",
    "# Make sure the tokens are in order of their indices to properly insert them in vocab\n",
    "special_symbols = ['<unk>', '<pad>', '<|endoftext|>' ]"
   ]
  },
  {
   "cell_type": "code",
   "execution_count": null,
   "metadata": {},
   "outputs": [],
   "source": [
    "tokenizer = get_tokenizer(\"basic_english\")"
   ]
  },
  {
   "cell_type": "code",
   "execution_count": null,
   "metadata": {},
   "outputs": [],
   "source": [
    "def yield_tokens(data_iter):\n",
    "\n",
    "    for _,data_sample in data_iter:\n",
    "        yield  tokenizer(data_sample)\n",
    "\n",
    "vocab = build_vocab_from_iterator(yield_tokens(train_iter), specials=special_symbols, special_first=True)\n",
    "vocab.set_default_index(UNK_IDX)\n"
   ]
  },
  {
   "cell_type": "markdown",
   "metadata": {},
   "source": [
    "###  Text to index and index to Text\n"
   ]
  },
  {
   "cell_type": "code",
   "execution_count": null,
   "metadata": {},
   "outputs": [],
   "source": [
    "text_to_index=lambda text: [vocab(token) for token in tokenizer(text)]\n",
    "index_to_en = lambda seq_en: \" \".join([vocab.get_itos()[index] for index in seq_en])"
   ]
  },
  {
   "cell_type": "code",
   "execution_count": null,
   "metadata": {},
   "outputs": [],
   "source": [
    "#check\n",
    "index_to_en(torch.tensor([0,1,2]))"
   ]
  },
  {
   "cell_type": "markdown",
   "metadata": {},
   "source": [
    "### Collate Function for Decoder Model\n",
    "\n",
    "The collate function plays a crucial role in preparing data for the decoder model. Its primary function is to:\n",
    "Take a block of text as input: The collate function accepts a block of text, which serves as the foundation for generating training samples.\n",
    "Produce a modified block of text as output: Through the `get_sample(block_size, text)` function, the collate function transforms the input text into suitable training samples.\n",
    "**get_sample**\n",
    "The get_sample(block_size, text) function is responsible for:\n",
    "Generating random text samples: It creates a random source sequence (`src_sequence`) and its corresponding target sequence (`tgt_sequence`) from the given text.\n",
    "Ensuring sample fits within block size: The function adjusts the sample length to fit within the specified block size, handling cases where the text is shorter than the block size.\n",
    "Returning source and target sequences: The function returns both sequences, which are used as input for the language model.\n",
    "By utilizing the get_sample function, the collate function enables the decoder model to learn from the input text and generate coherent and contextually relevant output.\n",
    "\n"
   ]
  },
  {
   "cell_type": "code",
   "execution_count": null,
   "metadata": {},
   "outputs": [],
   "source": [
    "def get_sample(block_size, text):\n",
    "    # Determine the length of the input text\n",
    "    sample_leg = len(text)\n",
    "    # Calculate the stopping point for randomly selecting a sample\n",
    "    # This ensures the selected sample doesn't exceed the text length\n",
    "    random_sample_stop = sample_leg - block_size\n",
    "\n",
    "\n",
    "    # Check if a random sample can be taken (if the text is longer than block_size)\n",
    "    if random_sample_stop >= 1:\n",
    "        # Randomly select a starting point for the sample\n",
    "        random_start = torch.randint(low=0, high=random_sample_stop, size=(1,)).item()\n",
    "        # Define the endpoint of the sample\n",
    "        stop = random_start + block_size\n",
    "\n",
    "        # Create the input and target sequences\n",
    "        src_sequence = text[random_start:stop]\n",
    "        tgt_sequence= text[random_start + 1:stop + 1]\n",
    "\n",
    "    # Handle the case where the text length is exactly equal or less the block size\n",
    "    elif random_sample_stop <= 0:\n",
    "        # Start from the beginning and use the entire text\n",
    "        random_start = 0\n",
    "        stop = sample_leg\n",
    "        src_sequence= text[random_start:stop]\n",
    "        tgt_sequence = text[random_start + 1:stop]\n",
    "        # Append an empty string to maintain sequence alignment\n",
    "        tgt_sequence.append( '<|endoftext|>')\n",
    "\n",
    "    return src_sequence, tgt_sequence"
   ]
  },
  {
   "cell_type": "markdown",
   "metadata": {},
   "source": [
    "Lets test `get_sample(block_size, text)` first and get batch of texts:\n"
   ]
  },
  {
   "cell_type": "code",
   "execution_count": null,
   "metadata": {},
   "outputs": [],
   "source": [
    "BATCH_SIZE=1\n",
    "\n",
    "batch_of_tokens=[]\n",
    "\n",
    "for i in range(BATCH_SIZE):\n",
    "  _,text =next(iter(train_iter))\n",
    "  batch_of_tokens.append(tokenizer(text))"
   ]
  },
  {
   "cell_type": "markdown",
   "metadata": {},
   "source": [
    "Get first smaple of text\n"
   ]
  },
  {
   "cell_type": "code",
   "execution_count": null,
   "metadata": {},
   "outputs": [],
   "source": [
    "text=batch_of_tokens[0][0:100]\n",
    "text[0:100]\n",
    "batch_of_tokens"
   ]
  },
  {
   "cell_type": "markdown",
   "metadata": {},
   "source": [
    "To test the `get_sample` function with a block size of 100, you can use the following code:\n"
   ]
  },
  {
   "cell_type": "code",
   "execution_count": null,
   "metadata": {},
   "outputs": [],
   "source": [
    "block_size=10\n",
    "text = \"your_text_here\"  # replace with your text\n",
    "src_sequence, tgt_sequence = get_sample(block_size, text)\n",
    "\n",
    "print(\"Source Sequence:\")\n",
    "print(src_sequence)\n",
    "print(\"\\nTarget Sequence:\")\n",
    "print(tgt_sequence)"
   ]
  },
  {
   "cell_type": "markdown",
   "metadata": {},
   "source": [
    "## Batch Creation for NLP Model Training\n",
    "The code snippet is designed to create batches of source (`src_batch`) and target (`tgt_batch`) sequences from a dataset for training NLP models. Here's a breakdown of its functionality:\n",
    "Looping through the dataset: The code iterates over the dataset to extract text samples.\n",
    "Generating source and target sequences: For each text sample, it uses the `get_sample` function to generate corresponding source and target sequences.\n",
    "Converting to vocabulary indices: The sequences are then converted into vocabulary indices, which represent the words or tokens in the sequences as numerical values.\n",
    "Converting to PyTorch tensors: The indexed sequences are then converted into PyTorch tensors, which are suitable for model training.\n",
    "Appending to batch lists: Each iteration appends the source and target sequences to their respective batch lists (`src_batch` and `tgt_batch`).\n",
    "Printing batch details: The code prints the details of the sequences, including the text, indices, and tensor shapes, for two samples per batch.\n",
    "This process enables the creation of batches that can be used to train NLP models, such as language models or sequence-to-sequence models. By printing the batch details, the code provides insight into the data being used for training."
   ]
  },
  {
   "cell_type": "code",
   "execution_count": null,
   "metadata": {},
   "outputs": [],
   "source": [
    "# Initialize empty lists to store source and target sequences\n",
    "src_batch, tgt_batch = [], []\n",
    "\n",
    "# Define the batch size\n",
    "BATCH_SIZE = 2\n",
    "\n",
    "# Loop to create batches of source and target sequences\n",
    "for i in range(BATCH_SIZE):\n",
    "    # Retrieve the next data point from the training iterator\n",
    "    _,text = next(iter(train_iter))\n",
    "\n",
    "    # Generate source and target sequences using the get_sample function\n",
    "    src_sequence_text, tgt_sequence_text = get_sample(block_size, tokenizer(text))\n",
    "\n",
    "    # Convert source and target sequences to tokenized vocabulary indices\n",
    "    src_sequence_indices = vocab(src_sequence_text)\n",
    "    tgt_sequence_indices = vocab(tgt_sequence_text)\n",
    "\n",
    "    # Convert the sequences to PyTorch tensors with dtype int64\n",
    "    src_sequence = torch.tensor(src_sequence_indices, dtype=torch.int64)\n",
    "    tgt_sequence = torch.tensor(tgt_sequence_indices, dtype=torch.int64)\n",
    "\n",
    "    # Append the source and target sequences to their respective batches\n",
    "    src_batch.append(src_sequence)\n",
    "    tgt_batch.append(tgt_sequence)\n",
    "\n",
    "    # Print the output for every 2nd sample (adjust as needed)\n",
    "    print(f\"Sample {i}:\")\n",
    "    print(\"Source Sequence (Text):\", src_sequence_text)\n",
    "    print(\"Source Sequence (Indices):\", src_sequence_indices)\n",
    "    print(\"Source Sequence (Shape):\", src_sequence.shape)\n",
    "    print(\"Target Sequence (Text):\", tgt_sequence_text)\n",
    "    print(\"Target Sequence (Indices):\", tgt_sequence_indices)\n",
    "    print(\"Target Sequence (Shape):\", tgt_sequence.shape)"
   ]
  },
  {
   "cell_type": "markdown",
   "metadata": {},
   "source": [
    "## collate_batch Function\n",
    "\n",
    "The `collate_batch` unction plays a crucial role in preparing batches of data for training NLP models. Here's a summary of its functionality:\n",
    "\n",
    "## Key Steps\n",
    "Processing text samples: The function iterates over each text sample in a given batch.\n",
    "Generating source and target sequences: It uses the get_sample function to generate source and target sequences for each text sample, based on a specified block size.\n",
    "Converting to indices: The sequences are converted to indices using a vocabulary, which maps words or tokens to numerical values.\n",
    "Transforming to PyTorch tensors: The indexed sequences are transformed into PyTorch tensors.\n",
    "Padding sequences: The sequences are padded to ensure uniform length across the batch, which is necessary for efficient training.\n",
    "Returning padded batches: The function returns the padded source and target batches, ready for training on the specified device (`DEVICE`).\n",
    "\n",
    "## Output\n",
    "The collate_batch function returns two padded tensors:\n",
    "`src_batch`: The padded source sequence batch.\n",
    "`tgt_batch`: The padded target sequence batch.\n",
    "These padded batches can be directly fed into an NLP model for training, enabling the model to learn from the data."
   ]
  },
  {
   "cell_type": "code",
   "execution_count": 1,
   "metadata": {},
   "outputs": [],
   "source": [
    "BLOCK_SIZE=30\n",
    "def collate_batch(batch):\n",
    "    src_batch, tgt_batch = [], []\n",
    "    for _,_textt in batch:\n",
    "      src_sequence,tgt_sequence=get_sample(BLOCK_SIZE,tokenizer(_textt))\n",
    "      src_sequence=vocab(src_sequence)\n",
    "      tgt_sequence=vocab(tgt_sequence)\n",
    "      src_sequence= torch.tensor(src_sequence, dtype=torch.int64)\n",
    "      tgt_sequence = torch.tensor(tgt_sequence, dtype=torch.int64)\n",
    "      src_batch.append(src_sequence)\n",
    "      tgt_batch.append(tgt_sequence)\n",
    "\n",
    "\n",
    "    src_batch = pad_sequence(src_batch, padding_value=PAD_IDX, batch_first=False)\n",
    "    tgt_batch = pad_sequence(tgt_batch, padding_value=PAD_IDX, batch_first=False)\n",
    "\n",
    "    return src_batch.to(DEVICE), tgt_batch.to(DEVICE)"
   ]
  },
  {
   "cell_type": "markdown",
   "metadata": {},
   "source": [
    "## Setting Up Data Loaders\n",
    "The code snippet demonstrates how to:\n",
    "Create data loaders: Utilize the `DataLoader` class to set up data loaders for the training, validation, and testing sets.\n",
    "Custom batch processing: Employ a custom `collate_batch` function for batch processing, allowing for tailored data preparation.\n",
    "Configure batch size and shuffling: Set the batch size to 1 for simplicity and enable data shuffling for randomized access.\n",
    "\n",
    "## Accessing and Displaying Preprocessed Data\n",
    "After initializing the training data loader, the code:\n",
    "Fetches the first batch: Retrieves the first batch of source (`src`) and target (`tgt`) sequences.\n",
    "Iterates over tokens: Loops through each token in the source sequence.\n",
    "Converts indices to text: Uses the `index_to_en` function to convert token indices back to text.\n",
    "Prints resulting sentences: Displays the resulting sentences, showcasing how to access and display preprocessed data ready for model training.\n",
    "This process allows for verification of the data preparation pipeline and ensures that the data is correctly formatted for model training."
   ]
  },
  {
   "cell_type": "code",
   "execution_count": null,
   "metadata": {},
   "outputs": [],
   "source": [
    "BATCH_SIZE=1\n",
    "dataloader = DataLoader(train_iter, batch_size=BATCH_SIZE, shuffle=True, collate_fn=collate_batch)\n",
    "val_dataloader= DataLoader(val_iter , batch_size=BATCH_SIZE, shuffle=True, collate_fn=collate_batch)"
   ]
  },
  {
   "cell_type": "markdown",
   "metadata": {},
   "source": [
    "### Iterating through data samples\n",
    "\n",
    "The provided code iterates through batches of source-target pairs from a data loader. It demonstrates how to access and print a few samples from the dataset:\n",
    "\n",
    "- We initialize an iterator over the data loader named `dataset`.\n",
    "- A loop runs for 10 iterations to fetch and print the first 10 source-target pairs. For each pair:\n",
    "    - `src` and `trt` (short for target) hold the batch of source and target sequences respectively.\n",
    "    - The `index_to_en` function is used to convert these sequences from numerical indices back to readable text.\n",
    "    - The `sample` number and corresponding source and target texts are printed out.\n",
    "\n",
    "After printing the first 10 samples, the code continues to iterate through the dataset:\n",
    "\n",
    "- It prints the shape of the target and source tensors for the next batch, which provides information about the number of tokens and batch size.\n",
    "- The `index_to_en` function is again used to convert the first sequence of the batch from indices to text for both source and target.\n",
    "- Only the first pair of the remaining batches is printed, and then the loop breaks.\n",
    "\n",
    "This process is useful for verifying that the data loader is functioning correctly and that the sequences are being properly transformed.\n"
   ]
  },
  {
   "cell_type": "code",
   "execution_count": null,
   "metadata": {},
   "outputs": [],
   "source": [
    "dataset=iter(dataloader)\n",
    "for sample in range(10):\n",
    "  src,trt=next(dataset)\n",
    "  print(\"sample\",sample)\n",
    "  print(\"sorce:\",index_to_en(src))\n",
    "  print(\"\\n\")\n",
    "  print(\"target:\",index_to_en(trt))\n",
    "  print(\"\\n\")"
   ]
  },
  {
   "cell_type": "code",
   "execution_count": null,
   "metadata": {},
   "outputs": [],
   "source": [
    "for  src,trt in dataset:\n",
    "    print(trt.shape)\n",
    "    print(src.shape)\n",
    "    print(index_to_en(src[0,:]))\n",
    "    print(index_to_en(trt[0,:]))\n",
    "    break"
   ]
  },
  {
   "cell_type": "markdown",
   "metadata": {},
   "source": [
    "Make sure source and target is shifted\n"
   ]
  },
  {
   "cell_type": "code",
   "execution_count": null,
   "metadata": {},
   "outputs": [],
   "source": [
    "print(\"source:\",index_to_en(src))\n",
    "print(\"target:\",index_to_en(trt))"
   ]
  },
  {
   "cell_type": "markdown",
   "metadata": {},
   "source": [
    "Now that we've covered data preparation, let's move on to understanding the key components of the Transformer model.\n"
   ]
  },
  {
   "cell_type": "markdown",
   "metadata": {},
   "source": [
    "## Masking in Transformers\n",
    "\n",
    "Masking plays a vital role in transformers, particularly in controlling the attention mechanism. The `generate_square_subsequent_mask` function generates an upper triangular matrix that serves as a mask.\n",
    "## Purpose of the Mask\n",
    "The mask ensures that during decoding:\n",
    "Tokens don't attend to future tokens: A token can only attend to previous tokens in the sequence, not future ones.\n",
    "Causal attention: This masking technique enables causal attention, where the model only considers the context up to the current token.\n",
    "## Upper Triangular Matrix\n",
    "The upper triangular matrix produced by the `generate_square_subsequent_mask` function has the following properties:\n",
    "Zeroes on and below the diagonal: Tokens can attend to themselves and previous tokens.\n",
    "Ones above the diagonal: Tokens cannot attend to future tokens.\n",
    "By applying this mask, the transformer model can effectively process sequential data, such as text or time series data, while maintaining the causal relationship between tokens."
   ]
  },
  {
   "cell_type": "code",
   "execution_count": null,
   "metadata": {},
   "outputs": [],
   "source": [
    "def generate_square_subsequent_mask(sz,device=DEVICE):\n",
    "    mask = (torch.triu(torch.ones((sz, sz), device=device)) == 1).transpose(0, 1)\n",
    "    mask = mask.float().masked_fill(mask == 0, float('-inf')).masked_fill(mask == 1, float(0.0))\n",
    "    return mask"
   ]
  },
  {
   "cell_type": "markdown",
   "metadata": {},
   "source": [
    "## Create_mask Function\n",
    "The `create_mask` function is used to generate source masks based on the provided source sequence. These masks are essential for controlling the attention mechanism in transformers.\n",
    "## Purpose of Source Masks\n",
    "Source masks help the model:\n",
    "Ignore padding tokens: By masking padding tokens, the model can focus on the actual content of the sequence.\n",
    "Handle variable-length sequences: Source masks enable the model to process sequences of different lengths within a batch.\n",
    "The `create_mask` function plays a crucial role in ensuring that the model attends to the relevant parts of the input sequence, improving its performance and efficiency"
   ]
  },
  {
   "cell_type": "code",
   "execution_count": null,
   "metadata": {},
   "outputs": [],
   "source": [
    "def create_mask(src,device=DEVICE):\n",
    "    src_seq_len = src.shape[0]\n",
    "    src_mask = generate_square_subsequent_mask(src_seq_len)\n",
    "    src_padding_mask = (src == PAD_IDX).transpose(0, 1)\n",
    "    return src_mask,src_padding_mask"
   ]
  },
  {
   "cell_type": "markdown",
   "metadata": {},
   "source": [
    "Let's check an example source tensor and its associated masks:\n"
   ]
  },
  {
   "cell_type": "code",
   "execution_count": null,
   "metadata": {},
   "outputs": [],
   "source": [
    "#Replace first four tokens with PAD token so we can also check how pad tokens are masked using padding_mask\n",
    "src[0:4]=PAD_IDX"
   ]
  },
  {
   "cell_type": "code",
   "execution_count": null,
   "metadata": {},
   "outputs": [],
   "source": [
    "mask,padding_mask = create_mask(src)\n",
    "src"
   ]
  },
  {
   "cell_type": "code",
   "execution_count": null,
   "metadata": {},
   "outputs": [],
   "source": [
    "mask"
   ]
  },
  {
   "cell_type": "code",
   "execution_count": null,
   "metadata": {},
   "outputs": [],
   "source": [
    "padding_mask"
   ]
  },
  {
   "cell_type": "markdown",
   "metadata": {},
   "source": [
    "## Positional Encoding in Transformers\n",
    "Transformers lack inherent knowledge of token order in sequences. To address this, positional encodings are added to token embeddings, providing the model with positional information.\n",
    "## Types of Positional Encodings\n",
    "Fixed Positional Encodings: These encodings follow a predetermined pattern, such as sinusoidal encodings used in the original Transformer paper.\n",
    "Trainable Positional Encodings: Used in models like GPT, these encodings are learned during training, allowing the model to capture task-specific positional information.\n",
    "## Trainable Positional Encodings\n",
    "Trainable positional encodings offer several benefits:\n",
    "Flexibility: Learned during training, these encodings can adapt to specific tasks and datasets.\n",
    "Task-specific representations: The model can capture nuanced positional information relevant to the task at hand.\n",
    "## Fixed Positional Encoding in this Lab\n",
    "For simplicity, this lab utilizes fixed positional encoding, which provides a straightforward way to incorporate positional information into the model."
   ]
  },
  {
   "cell_type": "code",
   "execution_count": null,
   "metadata": {},
   "outputs": [],
   "source": [
    "# add positional information to the input tokens\n",
    "class PositionalEncoding(nn.Module):\n",
    "    def __init__(self,\n",
    "                 emb_size: int,\n",
    "                 dropout: float,\n",
    "                 maxlen: int = 5000):\n",
    "        super(PositionalEncoding, self).__init__()\n",
    "        den = torch.exp(- torch.arange(0, emb_size, 2)* math.log(10000) / emb_size)\n",
    "        pos = torch.arange(0, maxlen).reshape(maxlen, 1)\n",
    "        pos_embedding = torch.zeros((maxlen, emb_size))\n",
    "        pos_embedding[:, 0::2] = torch.sin(pos * den)\n",
    "        pos_embedding[:, 1::2] = torch.cos(pos * den)\n",
    "        pos_embedding = pos_embedding.unsqueeze(-2)\n",
    "\n",
    "        self.dropout = nn.Dropout(dropout)\n",
    "        self.register_buffer('pos_embedding', pos_embedding)\n",
    "\n",
    "    def forward(self, token_embedding: Tensor):\n",
    "        return self.dropout(token_embedding + self.pos_embedding[:token_embedding.size(0), :])"
   ]
  },
  {
   "cell_type": "markdown",
   "metadata": {},
   "source": [
    "## Token Embedding\n",
    "Token embedding is a technique used to represent words or tokens as numerical vectors in a continuous vector space. This allows words with similar meanings or contexts to be mapped to nearby points in the vector space.\n",
    "## Key Characteristics\n",
    "Vector representation: Each unique word or token is assigned a fixed-length vector.\n",
    "Linguistic properties: The numerical values in the vector represent various linguistic properties, such as meaning, context, or relationships with other words.\n",
    "## TokenEmbedding Class\n",
    "The `TokenEmbedding` class is designed to convert numerical tokens into embeddings, enabling the model to capture the semantic relationships between words and process text data effectively.\n",
    "By using token embeddings, models can better understand the nuances of language and make more accurate predictions or classifications."
   ]
  },
  {
   "cell_type": "code",
   "execution_count": null,
   "metadata": {},
   "outputs": [],
   "source": [
    "class TokenEmbedding(nn.Module):\n",
    "    def __init__(self, vocab_size: int, emb_size):\n",
    "        super(TokenEmbedding, self).__init__()\n",
    "        self.embedding = nn.Embedding(vocab_size, emb_size)\n",
    "        self.emb_size = emb_size\n",
    "\n",
    "    def forward(self, tokens: Tensor):\n",
    "        return self.embedding(tokens.long()) * math.sqrt(self.emb_size)"
   ]
  },
  {
   "cell_type": "markdown",
   "metadata": {},
   "source": [
    "## Custom GPT model architecture\n",
    "\n",
    "The `CustomGPTModel` class defines a transformer-based architecture for generative pre-trained models, tailored for text generation and various NLP tasks. The model consists of several key components:\n",
    "\n",
    "- **Initialization (`__init__`)**: The constructor takes several parameters including `embed_size`, `vocab_size`, `num_heads`, `num_layers`, `max_seq_len`, and `dropout`. It initializes the embedding layer, positional encoding, transformer encoder layers, and a linear layer (`lm_head`) for generating logits over the vocabulary.\n",
    "\n",
    "- **Weight initialization (`init_weights`)**: This method initializes the weights of the model for better training convergence. The Xavier uniform initialization is used, which is a common practice for initializing weights in deep learning.\n",
    "\n",
    "- **Decoder (`decoder`)**: Although named `decoder`, this method currently functions as the forward pass through the transformer encoder layers, followed by the generation of logits for the language modeling task. It handles the addition of positional encodings to the embeddings and applies a mask if necessary.\n",
    "\n",
    "- **Forward pass (`forward`)**: This method is similar to the `decoder` method and defines the forward computation of the model. It processes the input through embedding layers, positional encoding, transformer encoder layers, and produces the final output using the `lm_head`.\n",
    "\n",
    "- **Mask generation**: Both `decoder` and `forward` methods contain logic to generate a square causal mask if no source mask is provided. This mask ensures that the prediction for a position does not depend on the future tokens in the sequence, which is important for the autoregressive nature of GPT models.\n",
    "\n",
    "- **Commented out decoder**: A section of the code is commented out, suggesting an initial design where a transformer decoder layer was considered. However, the final implementation uses only encoder layers, which is a common simplification for models focusing on language modeling and generation.\n",
    "\n",
    "This class effectively encapsulates the necessary components to create a GPT-like model, allowing for training on language modeling tasks and text generation applications.\n"
   ]
  },
  {
   "cell_type": "code",
   "execution_count": null,
   "metadata": {},
   "outputs": [],
   "source": [
    "class CustomGPTModel(nn.Module):\n",
    "    def __init__(self, embed_size,vocab_size, num_heads, num_layers, max_seq_len=500,dropout=0.1):\n",
    "\n",
    "        super().__init__()\n",
    "\n",
    "        self.init_weights()\n",
    "        self.embed = nn.Embedding(vocab_size, embed_size)\n",
    "        self.positional_encoding = PositionalEncoding(embed_size, dropout=dropout)\n",
    "\n",
    "        print( embed_size )\n",
    "\n",
    "\n",
    "        # Remaining layers are part of the TransformerDecoder\n",
    "        encoder_layers = nn.TransformerEncoderLayer(d_model=embed_size, nhead=num_heads, dropout=dropout)\n",
    "        self.transformer_encoder = nn.TransformerEncoder(encoder_layers, num_layers=num_layers)\n",
    "        self.embed_size = embed_size\n",
    "        self.lm_head = nn.Linear(embed_size, vocab_size)\n",
    "\n",
    "    def init_weights(self):\n",
    "      for p in self.parameters():\n",
    "          if p.dim() > 1:\n",
    "              nn.init.xavier_uniform_(p)\n",
    "\n",
    "    def create_mask(src,device=DEVICE):\n",
    "        src_seq_len = src.shape[0]\n",
    "        src_mask = nn.Transformer.generate_square_subsequent_mask(src_seq_len)\n",
    "        src_padding_mask = (src == PAD_IDX).transpose(0, 1)\n",
    "        return src_mask,src_padding_mask\n",
    "\n",
    "    def decoder(self, x,src_mask):\n",
    "        seq_length = x.size(0)\n",
    "\n",
    "        # Add positional embeddings to the input embeddings\n",
    "        x = self.embed(x)* math.sqrt(self.embed_size)\n",
    "        x = self.positional_encoding(x)\n",
    "\n",
    "        if src_mask is None:\n",
    "            \"\"\"Generate a square causal mask for the sequence. The masked positions are filled with float('-inf').\n",
    "            Unmasked positions are filled with float(0.0).\n",
    "            \"\"\"\n",
    "            src_mask, src_padding_mask = create_mask(x)\n",
    "\n",
    "        output = self.transformer_encoder(x, src_mask)\n",
    "        logits = self.lm_head(x)\n",
    "        return logits\n",
    "\n",
    "    def forward(self,x,src_mask=None,key_padding_mask=None):\n",
    "\n",
    "        seq_length = x.size(0)\n",
    "\n",
    "        # Add positional embeddings to the input embeddings\n",
    "        x = self.embed(x)* math.sqrt(self.embed_size) #src = self.embedding(src) * math.sqrt(self.d_model)\n",
    "        x = self.positional_encoding(x)\n",
    "\n",
    "\n",
    "        if src_mask is None:\n",
    "            \"\"\"Generate a square causal mask for the sequence. The masked positions are filled with float('-inf').\n",
    "            Unmasked positions are filled with float(0.0).\n",
    "            \"\"\"\n",
    "            src_mask, src_padding_mask = create_mask(x)\n",
    "\n",
    "        output = self.transformer_encoder(x, src_mask,key_padding_mask)\n",
    "        x = self.lm_head(x)\n",
    "\n",
    "        return x\n"
   ]
  },
  {
   "cell_type": "markdown",
   "metadata": {},
   "source": [
    "### Model configuration and initialization\n",
    "\n",
    "Here, we configure and instantiate a Custom GPT Model with the following specifications:\n",
    "\n",
    "- `ntokens`: The total number of unique tokens in the vocabulary, which the model will use to represent words.\n",
    "- `emsize`: The size of each embedding vector. In this model, each word will be represented by a 200-dimensional vector.\n",
    "- `nlayers`: The number of transformer encoder layers in the model. We are using two layers in this configuration.\n",
    "- `nhead`: The number of attention heads in the multi-head attention mechanism. The model will use two attention heads.\n",
    "- `dropout`: A regularization technique where randomly selected neurons are ignored during training to prevent overfitting. Here, we set the dropout probability to 0.2.\n",
    "\n",
    "After setting these hyperparameters, we create an instance of `CustomGPTModel` by passing in the embedding size, number of attention heads, number of layers, vocabulary size, and dropout probability. The model is then moved to the specified `DEVICE`, which could be a CPU or GPU, for training or inference.\n"
   ]
  },
  {
   "cell_type": "code",
   "execution_count": null,
   "metadata": {},
   "outputs": [],
   "source": [
    "ntokens = len(vocab)  # size of vocabulary\n",
    "emsize = 200  # embedding dimension\n",
    "nlayers = 2  # number of ``nn.TransformerEncoderLayer`` in ``nn.TransformerEncoder``\n",
    "nhead = 2  # number of heads in ``nn.MultiheadAttention``\n",
    "dropout = 0.2  # dropout probability\n",
    "\n",
    "model = CustomGPTModel(embed_size=emsize, num_heads=nhead, num_layers=nlayers, vocab_size=ntokens,dropout=dropout).to(DEVICE)"
   ]
  },
  {
   "cell_type": "markdown",
   "metadata": {},
   "source": [
    "### Prompting \n",
    "In order to get the model to generate text (next token), you will need to create an starting point, which we call prompt, for the model to append tokens to it and generate text. Verify that the prompt is neither None nor too long, then proceed to tokenize it, convert it into indices, and reshape as needed.\n"
   ]
  },
  {
   "cell_type": "code",
   "execution_count": null,
   "metadata": {},
   "outputs": [],
   "source": [
    "def encode_prompt(prompt, block_size=BLOCK_SIZE):\n",
    "    # Handle None prompt\n",
    "    while prompt is None:\n",
    "        prompt = input(\"Sorry, prompt cannot be empty. Please enter a valid prompt: \")\n",
    "\n",
    "    tokens = tokenizer(prompt)\n",
    "    number_of_tokens = len(tokens)\n",
    "\n",
    "    # Handle long prompts\n",
    "    if number_of_tokens > block_size:\n",
    "        tokens = tokens[-block_size:]  # Keep last block_size characters\n",
    "\n",
    "    prompt_indices = vocab(tokens)\n",
    "    prompt_encoded = torch.tensor(prompt_indices, dtype=torch.int64).reshape(-1, 1)\n",
    "    return prompt_encoded"
   ]
  },
  {
   "cell_type": "markdown",
   "metadata": {},
   "source": [
    "Let's see some differnt exmaples where the input is None or longer than block size:\n"
   ]
  },
  {
   "cell_type": "code",
   "execution_count": null,
   "metadata": {},
   "outputs": [],
   "source": [
    "print(index_to_en(encode_prompt(None)))"
   ]
  },
  {
   "cell_type": "code",
   "execution_count": null,
   "metadata": {},
   "outputs": [],
   "source": [
    "print(index_to_en(encode_prompt(\"This is a prompt to get model generate next words.\" ) ))"
   ]
  },
  {
   "cell_type": "markdown",
   "metadata": {},
   "source": [
    "Now, lets encode a text prompt and run it through the decoder part of the model:\n",
    "\n",
    "- The `decoder` method of the `CustomGPTModel` instance `model` is called with the encoded prompt and without a source mask (`src_mask=None`), indicating that it will not mask any part of the sequence during processing. The decoder will handle creating a causal mask internally if required.\n",
    "- The output `logits` represents the model's raw predictions for each token position, which can be further processed (e.g., by applying a softmax function) to obtain the probabilities of the next token in the sequence.\n"
   ]
  },
  {
   "cell_type": "code",
   "execution_count": null,
   "metadata": {},
   "outputs": [],
   "source": [
    "prompt_encoded=encode_prompt(\"This is a prompt to get model generate next words.\").to(DEVICE)\n",
    "prompt_encoded"
   ]
  },
  {
   "cell_type": "code",
   "execution_count": null,
   "metadata": {},
   "outputs": [],
   "source": [
    "logits = model.decoder(prompt_encoded,src_mask=None).to(DEVICE)"
   ]
  },
  {
   "cell_type": "markdown",
   "metadata": {},
   "source": [
    "We have 11 tokens per output, an additional batch dimension, along with corresponding logits values for each word in the vocabulary.\n"
   ]
  },
  {
   "cell_type": "code",
   "execution_count": null,
   "metadata": {},
   "outputs": [],
   "source": [
    "logits.shape"
   ]
  },
  {
   "cell_type": "markdown",
   "metadata": {},
   "source": [
    "Reshape it such that the batch dimension becomes five\n"
   ]
  },
  {
   "cell_type": "code",
   "execution_count": null,
   "metadata": {},
   "outputs": [],
   "source": [
    "logits = logits.transpose(0, 1)\n",
    "logits.shape"
   ]
  },
  {
   "cell_type": "markdown",
   "metadata": {},
   "source": [
    "Logits contains logits for each token in the sequence generated by the decoder we just need the last one for the next word\n"
   ]
  },
  {
   "cell_type": "code",
   "execution_count": null,
   "metadata": {},
   "outputs": [],
   "source": [
    "logit_preiction =logits[:,-1]\n",
    "logit_preiction.shape"
   ]
  },
  {
   "cell_type": "markdown",
   "metadata": {},
   "source": [
    "Get index of next word\n"
   ]
  },
  {
   "cell_type": "code",
   "execution_count": null,
   "metadata": {},
   "outputs": [],
   "source": [
    " _, next_word_index = torch.max(logit_preiction, dim=1)\n",
    " next_word_index"
   ]
  },
  {
   "cell_type": "markdown",
   "metadata": {},
   "source": [
    "Next word\n"
   ]
  },
  {
   "cell_type": "code",
   "execution_count": null,
   "metadata": {},
   "outputs": [],
   "source": [
    "index_to_en(next_word_index)"
   ]
  },
  {
   "cell_type": "markdown",
   "metadata": {},
   "source": [
    "## Autoregressive text generation\n",
    "In decoder models, we simply append the output to the input to generate the next response. We stop this process when we encounter the end-of-sequence tag <|endoftext|> or if the input becomes too large. We will implement it as a function later in this notebook.\n"
   ]
  },
  {
   "cell_type": "code",
   "execution_count": null,
   "metadata": {},
   "outputs": [],
   "source": [
    "prompt=\"this is the beginning of\""
   ]
  },
  {
   "cell_type": "markdown",
   "metadata": {},
   "source": [
    "Ensuring that the prompt is of the maximum input size and make a prediction\n"
   ]
  },
  {
   "cell_type": "code",
   "execution_count": null,
   "metadata": {},
   "outputs": [],
   "source": [
    "prompt_encoded = encode_prompt(prompt).to(DEVICE)\n",
    "print(\"Device for prompt_encoded:\", prompt_encoded.shape)"
   ]
  },
  {
   "cell_type": "code",
   "execution_count": null,
   "metadata": {},
   "outputs": [],
   "source": [
    "max_new_tokens=10"
   ]
  },
  {
   "cell_type": "code",
   "execution_count": null,
   "metadata": {},
   "outputs": [],
   "source": [
    "for i in range(max_new_tokens):\n",
    "    logits = model.decoder(prompt_encoded,src_mask=None)\n",
    "    logits = logits.transpose(0, 1)\n",
    "    print(\" \")\n",
    "    print(f\"Shape of logits at step {i}: {logits.shape}\")\n",
    "\n",
    "    logit_preiction = logits[:, -1]\n",
    "    print(f\"Shape of logit_prediction at step {i}: {logit_preiction.shape}\")\n",
    "\n",
    "    next_token_encoded = torch.argmax(logit_preiction, dim=-1).reshape(-1, 1)\n",
    "    print(f\"Shape of next_token_encoded at step {i}: {next_token_encoded.shape}\")\n",
    "\n",
    "    prompt_encoded = torch.cat((prompt_encoded, next_token_encoded), dim=0).to(DEVICE)\n",
    "    print(f\"Sequence for step {i}: {[index_to_en(j) for j in prompt_encoded]}\")\n",
    "    print(f\"Shape of prompt_encoded after concatenation at step {i}: {prompt_encoded.shape}\")"
   ]
  },
  {
   "cell_type": "markdown",
   "metadata": {},
   "source": [
    "Lets implement it as a function now\n"
   ]
  },
  {
   "cell_type": "code",
   "execution_count": null,
   "metadata": {},
   "outputs": [],
   "source": [
    "# Define special symbols and indices\n",
    "UNK_IDX, PAD_IDX, EOS_IDX = 0, 1, 2\n",
    "# Make sure the tokens are in order of their indices to properly insert them in vocab\n",
    "special_symbols = ['<unk>', '<pad>', '<|endoftext|>' ]\n",
    "BLOCK_SIZE"
   ]
  },
  {
   "cell_type": "code",
   "execution_count": null,
   "metadata": {},
   "outputs": [],
   "source": [
    "\n",
    "#auto-regressive Language Model text generation\n",
    "def generate(model, prompt=None, max_new_tokens=500, block_size=BLOCK_SIZE, vocab=vocab, tokenizer=tokenizer):\n",
    "    # Move model to the specified device (e.g., GPU or CPU)\n",
    "    model.to(DEVICE)\n",
    "\n",
    "    # Encode the input prompt using the provided encode_prompt function\n",
    "    prompt_encoded = encode_prompt(prompt).to(DEVICE)\n",
    "    tokens = []\n",
    "\n",
    "    # Generate new tokens up to max_new_tokens\n",
    "    for _ in range(max_new_tokens):\n",
    "        # Decode the encoded prompt using the model's decoder\n",
    "        logits = model(prompt_encoded,src_mask=None,key_padding_mask=None)\n",
    "\n",
    "        # Transpose the logits to bring the sequence length to the first dimension\n",
    "        logits = logits.transpose(0, 1)\n",
    "\n",
    "        # Select the logits of the last token in the sequence\n",
    "        logit_prediction = logits[:, -1]\n",
    "\n",
    "        # Choose the most probable next token from the logits(greedy decoding)\n",
    "        next_token_encoded = torch.argmax(logit_prediction, dim=-1).reshape(-1, 1)\n",
    "\n",
    "        # If the next token is the end-of-sequence (EOS) token, stop generation\n",
    "        if next_token_encoded.item() == EOS_IDX:\n",
    "            break\n",
    "\n",
    "        # Append the next token to the prompt_encoded and keep only the last 'block_size' tokens\n",
    "        prompt_encoded = torch.cat((prompt_encoded, next_token_encoded), dim=0)[-block_size:]\n",
    "\n",
    "        # Convert the next token index to a token string using the vocabulary\n",
    "        # Move the tensor back to CPU for vocab lookup if needed\n",
    "        token_id = next_token_encoded.to('cpu').item()\n",
    "        tokens.append(vocab.get_itos()[token_id])\n",
    "\n",
    "    # Join the generated tokens into a single string and return\n",
    "    return ' '.join(tokens)"
   ]
  },
  {
   "cell_type": "code",
   "execution_count": null,
   "metadata": {},
   "outputs": [],
   "source": [
    "generate(model,prompt=\"this is the beginning of\",max_new_tokens=30,vocab=vocab,tokenizer=tokenizer)"
   ]
  },
  {
   "cell_type": "markdown",
   "metadata": {},
   "source": [
    "### Decoding the differences: Training vs. inference\n",
    "\n",
    "The key difference between the training and inference stages lies in the inputs to the decoder. During training, the decoder benefits from exposure to the ground truth--receiving the exact target sequence tokens incrementally through a technique known as \"teacher forcing.\" This approach is in stark contrast to some other neural network architectures that rely on the network's previous predictions as inputs during training. Once training concludes, the datasets used resemble those employed in more conventional neural network models, providing a familiar foundation for comparison and evaluation.\n",
    "\n",
    "To start the training, first create a Cross Entropy Loss object. The loss will not consider PAD tokens.\n"
   ]
  },
  {
   "cell_type": "code",
   "execution_count": null,
   "metadata": {},
   "outputs": [],
   "source": [
    "from torch.nn import CrossEntropyLoss\n",
    "loss_fn = CrossEntropyLoss(ignore_index=PAD_IDX)"
   ]
  },
  {
   "cell_type": "markdown",
   "metadata": {},
   "source": [
    "We create the required masks\n"
   ]
  },
  {
   "cell_type": "code",
   "execution_count": null,
   "metadata": {},
   "outputs": [],
   "source": [
    "src,tgt=next(iter(dataloader))\n",
    "\n",
    "mask,padding_mask = create_mask(src)"
   ]
  },
  {
   "cell_type": "markdown",
   "metadata": {},
   "source": [
    "When you call `model(src, src_mask, key_padding_mask)`,  the forward method of the `CustomGPTModel` class generates logits for the target sequence, which can then be translated into actual tokens by taking the highest probability prediction at each step in the sequence.\n"
   ]
  },
  {
   "cell_type": "code",
   "execution_count": null,
   "metadata": {},
   "outputs": [],
   "source": [
    "logits = model(src,src_mask=mask,key_padding_mask=padding_mask)\n",
    "print(logits.shape)"
   ]
  },
  {
   "cell_type": "code",
   "execution_count": null,
   "metadata": {},
   "outputs": [],
   "source": [
    "print(\"output shape\",logits.shape)\n",
    "print(\"source shape \",src)"
   ]
  },
  {
   "cell_type": "markdown",
   "metadata": {},
   "source": [
    "\n",
    "During training, the transformer's decoder is provided with the entire target sequence at once. This allows for parallel processing of the sequence, as opposed to generating one token at a time. Consequently, the output sequence is produced in its entirety, matching the shape of the input target sequence. This parallel generation is efficient and takes advantage of the model's capacity to handle sequences in a comprehensive manner. By examining the dimensions of the output, we can confirm that it aligns with the input target sequence, indicating that the entire sequence has been processed simultaneously.\n"
   ]
  },
  {
   "cell_type": "markdown",
   "metadata": {},
   "source": [
    "We drop the the first sample of the target\n"
   ]
  },
  {
   "cell_type": "code",
   "execution_count": null,
   "metadata": {},
   "outputs": [],
   "source": [
    "tgt\n",
    "print(tgt.shape)"
   ]
  },
  {
   "cell_type": "code",
   "execution_count": null,
   "metadata": {},
   "outputs": [],
   "source": [
    "print(logits.reshape(-1, logits.shape[-1]).shape)\n",
    "print(tgt.reshape(-1).shape)"
   ]
  },
  {
   "cell_type": "markdown",
   "metadata": {},
   "source": [
    "We now calculate the loss as the output from the transformer's decoder is provided as input to the cross-entropy loss function along with the target sequence values. Given that the transformer's output has the dimensions sequence length, batch size, and features, it's necessary to reshape this output to align with the standard input format required by the cross-entropy loss function. This step ensures that the loss is calculated correctly, comparing the predicted sequence against the ground truth at each timestep across the batch using the reshape method\n"
   ]
  },
  {
   "cell_type": "code",
   "execution_count": null,
   "metadata": {},
   "outputs": [],
   "source": [
    "loss = loss_fn(logits.reshape(-1, logits.shape[-1]), tgt.reshape(-1))\n",
    "print(loss.item())"
   ]
  },
  {
   "cell_type": "markdown",
   "metadata": {},
   "source": [
    "By following the aforementioned procedures, we can develop a function that is capable of making predictions and subsequently computing the corresponding loss on the validation data, we will use this fuction later on.\n"
   ]
  },
  {
   "cell_type": "code",
   "execution_count": null,
   "metadata": {},
   "outputs": [],
   "source": [
    "def evaluate(model: nn.Module, eval_data) -> float:\n",
    "    model.eval()  # turn on evaluation mode\n",
    "    total_loss = 0.\n",
    "    with torch.no_grad():\n",
    "        for src,tgt in eval_data:\n",
    "            tgt = tgt.to(DEVICE)\n",
    "            #seq_len = src.size(0)\n",
    "            logits = model(src,src_mask=None,key_padding_mask=None)\n",
    "            total_loss +=  loss_fn(logits.reshape(-1, logits.shape[-1]), tgt.reshape(-1)).item()\n",
    "    return total_loss / (len(list(eval_data)) - 1)"
   ]
  },
  {
   "cell_type": "code",
   "execution_count": null,
   "metadata": {},
   "outputs": [],
   "source": [
    "evaluate(model,val_dataloader)"
   ]
  },
  {
   "cell_type": "markdown",
   "metadata": {},
   "source": [
    "## Training the model\n",
    "We train the model following standard neural-network practice, with a few task-specific details noted below. **Note on compute: Training on CPU is significantly slower. If you do not have access to a GPU, you may skip to Loading the Saved Model. We provide a checkpoint trained for 30 epochs for convenience.**\n",
    "\n",
    "\n",
    "\n",
    "The `train` function is defined to fine-tune the `CustomGPTModel` on a given training dataset. It is structured as follows:\n",
    "\n",
    "- **Optimizer**: We fine-tune `CustomGPTModel` using the Adam optimizer.\n",
    "\n",
    "## Procedure\n",
    "For each epoch, the `train` function:\n",
    "\n",
    "- Puts the model in training mode (enabling dropout and batch-norm behavior).\n",
    "- Iterates over mini-batches from the training dataloader. For each batch:\n",
    "    - Extracts source (`src`) and target (`tgt`) sequences.\n",
    "    - Runs a forward pass to obtain logits.\n",
    "    - Reshapes logits as needed for the loss computation.\n",
    "    - Computes the token-level loss (cross-entropy).\n",
    "- Applies gradient clipping to mitigate exploding gradients.\n",
    "- Steps the optimizer to update model parameters.\n",
    "\n",
    "Training progress is logged at a fixed interval (e.g., every 10,000 steps) and/or at selected milestones. Each log entry reports:\n",
    "\n",
    "- Average loss over the interval,\n",
    "\n",
    "- Perplexity (exp(loss)) as a readability metric,\n",
    "\n",
    "- Throughput via elapsed time per batch since the prior log.\n",
    "\n"
   ]
  },
  {
   "cell_type": "code",
   "execution_count": null,
   "metadata": {},
   "outputs": [],
   "source": [
    "optimizer = Adam(model.parameters(), lr=1e-2, weight_decay=0.01, betas=(0.9, 0.999))\n",
    "scheduler = torch.optim.lr_scheduler.StepLR(optimizer, 10000, gamma=0.9)\n",
    "\n",
    "def train(model: nn.Module,train_data) -> None:\n",
    "    model.train()  # turn on train mode\n",
    "    total_loss = 0.\n",
    "    log_interval = 10000\n",
    "    start_time = time.time()\n",
    "\n",
    "    num_batches = len(list(train_data)) // block_size\n",
    "    for batch,srctgt in enumerate(train_data):\n",
    "        src= srctgt[0]\n",
    "        tgt= srctgt[1]\n",
    "        logits = model(src,src_mask=None)\n",
    "        logits_flat = logits.reshape(-1, logits.shape[-1])\n",
    "        loss = loss_fn(logits_flat, tgt.reshape(-1))\n",
    "\n",
    "        optimizer.zero_grad()\n",
    "        loss.backward()\n",
    "        torch.nn.utils.clip_grad_norm_(model.parameters(), 0.5)\n",
    "        optimizer.step()\n",
    "        total_loss += loss.item()\n",
    "\n",
    "        if (batch % log_interval == 0 and batch > 0) or batch==42060:\n",
    "            lr = scheduler.get_last_lr()[0]\n",
    "            ms_per_batch = (time.time() - start_time) * 1000 / log_interval\n",
    "            #cur_loss = total_loss / log_interval\n",
    "            cur_loss = total_loss / batch\n",
    "            ppl = math.exp(cur_loss)\n",
    "            print(f'| epoch {epoch:3d} | {batch//block_size:5d}/{num_batches:5d} batches | '\n",
    "                  f'lr {lr:02.4f} | ms/batch {ms_per_batch:5.2f} | '\n",
    "                  f'loss {cur_loss:5.2f} | ppl {ppl:8.2f}')\n",
    "            start_time = time.time()\n",
    "\n",
    "    return total_loss"
   ]
  },
  {
   "cell_type": "markdown",
   "metadata": {},
   "source": [
    "We use loss lists to keep track of our training and validation loss.\n",
    "\n",
    "The model will go through the training data 30 times (epochs). This training step uses functions we've defined earlier.\n",
    "\n",
    "\n"
   ]
  },
  {
   "cell_type": "code",
   "execution_count": null,
   "metadata": {},
   "outputs": [],
   "source": [
    "best_val_loss = float('inf')\n",
    "epochs = 30\n",
    "Train_losses= []\n",
    "Val_losses = []\n",
    "for epoch in range(1, epochs + 1):\n",
    "    epoch_start_time = time.time()\n",
    "    train_loss = train(model,dataloader)\n",
    "    val_loss = evaluate(model, val_dataloader)\n",
    "    val_ppl = math.exp(val_loss)\n",
    "    Train_losses.append(train_loss)\n",
    "    Val_losses.append(val_loss)\n",
    "\n",
    "    elapsed = time.time() - epoch_start_time\n",
    "    print('-' * 89)\n",
    "    print(f'| end of epoch {epoch:3d} | time: {elapsed:5.2f}s | '\n",
    "        f'valid loss {val_loss:5.2f} | valid ppl {val_ppl:8.2f}')\n",
    "    print('-' * 89)\n",
    "\n",
    "    if val_loss < best_val_loss:\n",
    "        best_val_loss = val_loss\n",
    "        torch.save(model.state_dict(), 'model_best_val_loss.pt')"
   ]
  },
  {
   "cell_type": "markdown",
   "metadata": {},
   "source": [
    "Let's plot training and validation losses:\n"
   ]
  },
  {
   "cell_type": "code",
   "execution_count": null,
   "metadata": {},
   "outputs": [],
   "source": [
    "# Calculate the number of epochs (assuming the lengths of train_losses and val_losses are equal)\n",
    "num_epochs = len(Train_losses)\n",
    "\n",
    "# Create a figure and a set of subplots\n",
    "fig, ax = plt.subplots()\n",
    "\n",
    "# Plot the training losses\n",
    "ax.plot(range(num_epochs), Train_losses, label='Training Loss', color='blue')\n",
    "\n",
    "# Plot the validation losses\n",
    "ax.plot(range(num_epochs), Val_losses, label='Validation Loss', color='orange')\n",
    "\n",
    "# Set the x-axis label\n",
    "ax.set_xlabel('Epoch')\n",
    "\n",
    "# Set the y-axis label\n",
    "ax.set_ylabel('Loss')\n",
    "\n",
    "# Set the title of the plot\n",
    "ax.set_title('Training and Validation Losses')\n",
    "\n",
    "# Add a legend to the plot\n",
    "ax.legend()\n",
    "\n",
    "# Show the plot\n",
    "plt.show()"
   ]
  },
  {
   "cell_type": "markdown",
   "metadata": {},
   "source": [
    "![loss_gpt.png](https://cf-courses-data.s3.us.cloud-object-storage.appdomain.cloud/V1Fda63Q4CrNfgT5g1HfVQ.png)\n"
   ]
  },
  {
   "cell_type": "markdown",
   "metadata": {},
   "source": [
    "## Loading the saved model\n",
    "If you want to skip training and load a trained model that we provided, go ahead and uncomment the following cell:\n"
   ]
  },
  {
   "cell_type": "code",
   "execution_count": null,
   "metadata": {},
   "outputs": [],
   "source": [
    "#model.load_state_dict(torch.load('kyn1_OsXrzjef0xihlsXmg.pt',map_location=torch.device('cpu')))"
   ]
  },
  {
   "cell_type": "code",
   "execution_count": null,
   "metadata": {},
   "outputs": [],
   "source": [
    "print(generate(model,prompt=\"the movie was\",max_new_tokens=10,vocab=vocab,tokenizer=tokenizer))"
   ]
  },
  {
   "cell_type": "markdown",
   "metadata": {},
   "source": [
    "You can see that the result is not satisfactory, which is due to the fact that LLMs need to be trained on huge data for several epochs to be accurate.\n"
   ]
  },
  {
   "cell_type": "markdown",
   "metadata": {},
   "source": [
    "## Loading GPT2 model from HuggingFace\n",
    "Let's now load the GPT2 model from HuggingFace to check how it performs at text generation:\n"
   ]
  },
  {
   "cell_type": "code",
   "execution_count": null,
   "metadata": {},
   "outputs": [],
   "source": [
    "# Load the tokenizer and model\n",
    "tokenizer1 = GPT2Tokenizer.from_pretrained(\"gpt2\")\n",
    "model = GPT2LMHeadModel.from_pretrained(\"gpt2\")\n",
    "\n",
    "# Define the input prompt\n",
    "#input_text = \"Once upon a time in a faraway land,\"\n",
    "input_text = \"the movie was\"\n",
    "\n",
    "# Tokenize the input text and prepare the input for the model\n",
    "input_ids = tokenizer1.encode(input_text, return_tensors=\"pt\")\n",
    "\n",
    "# Generate text using the model\n",
    "# Set the desired length of the generated text (max_length),\n",
    "# and other generation parameters like temperature, top_k, and top_p\n",
    "max_length = 15\n",
    "temperature = 0.7\n",
    "top_k = 50\n",
    "top_p = 0.95\n",
    "\n",
    "generated_ids = model.generate(\n",
    "    input_ids,\n",
    "    max_length=max_length,\n",
    "    temperature=temperature,\n",
    "    top_k=top_k,\n",
    "    top_p=top_p,\n",
    "    pad_token_id=tokenizer1.eos_token_id,\n",
    ")\n",
    "\n",
    "# Decode the generated text\n",
    "generated_text = tokenizer1.decode(generated_ids[0], skip_special_tokens=True)\n",
    "\n",
    "# Print the input prompt and the generated text\n",
    "print(f\"Input: {input_text}\")\n",
    "print(f\"Generated Text: {generated_text}\")"
   ]
  },
  {
   "cell_type": "markdown",
   "metadata": {},
   "source": [
    "## Exercise: Creating a decoder model\n",
    "In this exercise, you will create an instance of GPT-like model and prompt it to generate text. To achieve this, you will leverage the same GPT model discussed previously and make necessary modifications.\n",
    "\n",
    "1. **Create an instance with the following parameters:**\n",
    "   - `embedding size` = 200\n",
    "   -  `number of layers` = 2\n",
    "   -  `number of attention heads` = 2\n",
    "   -  `dropout probability` = 0.2\n",
    "\n",
    "2. **Create a prompt**\n",
    "\n",
    "3. **Pass the prompt to model to generate text with a maximum length of 15**\n"
   ]
  },
  {
   "cell_type": "code",
   "execution_count": null,
   "metadata": {},
   "outputs": [],
   "source": [
    "#Write your code here\n",
    "ntokens =  xxx\n",
    "emsize =  xxx\n",
    "nlayers = xxx\n",
    "nhead = xxx\n",
    "dropout =  xxx\n",
    "\n",
    "\n",
    "model = CustomGPTModel(embed_size=emsize, num_heads=nhead, num_layers=nlayers, vocab_size=ntokens,dropout=dropout).to(DEVICE)\n",
    "\n",
    "\n",
    "print(generate(model,prompt=\"spring is\",max_new_tokens=xxx,vocab=vocab,tokenizer=tokenizer))"
   ]
  }
 ],
 "metadata": {
  "kernelspec": {
   "display_name": "Python [conda env:anaconda3]",
   "language": "python",
   "name": "conda-env-anaconda3-py"
  },
  "language_info": {
   "codemirror_mode": {
    "name": "ipython",
    "version": 3
   },
   "file_extension": ".py",
   "mimetype": "text/x-python",
   "name": "python",
   "nbconvert_exporter": "python",
   "pygments_lexer": "ipython3",
   "version": "3.13.5"
  },
  "prev_pub_hash": "db4a9629b4494579f724d7010534b7337a3baed234b2b31b20436e236b2f7987"
 },
 "nbformat": 4,
 "nbformat_minor": 4
}
